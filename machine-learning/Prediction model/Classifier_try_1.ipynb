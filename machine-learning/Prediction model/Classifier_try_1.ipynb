{
 "cells": [
  {
   "cell_type": "code",
   "execution_count": null,
   "id": "6436bd93",
   "metadata": {},
   "outputs": [],
   "source": [
    "import pandas as pd\n",
    "import numpy as np\n",
    "from sklearn.model_selection import train_test_split\n",
    "from autogluon.tabular import TabularDataset, TabularPredictor"
   ]
  },
  {
   "cell_type": "code",
   "execution_count": null,
   "id": "5410329c",
   "metadata": {},
   "outputs": [],
   "source": [
    "data = pd.read_csv(\"Cleaned_data.csv\")"
   ]
  },
  {
   "cell_type": "code",
   "execution_count": null,
   "id": "4dea8592",
   "metadata": {},
   "outputs": [],
   "source": [
    "x = data.drop(columns=[\"id\",\"cardio\"])"
   ]
  },
  {
   "cell_type": "code",
   "execution_count": null,
   "id": "43a22c8e",
   "metadata": {},
   "outputs": [],
   "source": [
    "y = data[\"cardio\"]"
   ]
  },
  {
   "cell_type": "code",
   "execution_count": null,
   "id": "b76864dd",
   "metadata": {},
   "outputs": [],
   "source": [
    "X_train, X_test, y_train, y_test = train_test_split(\n",
    "    x, y, test_size=0.2, random_state=42)"
   ]
  },
  {
   "cell_type": "code",
   "execution_count": null,
   "id": "29739237",
   "metadata": {},
   "outputs": [],
   "source": [
    "X_train.shape,y_train.shape"
   ]
  },
  {
   "cell_type": "code",
   "execution_count": null,
   "id": "1a9ff289",
   "metadata": {},
   "outputs": [],
   "source": [
    "X_test.shape"
   ]
  },
  {
   "cell_type": "code",
   "execution_count": null,
   "id": "c3ab19e3",
   "metadata": {},
   "outputs": [],
   "source": [
    "train_data = pd.concat([X_train,y_train],axis=1)"
   ]
  },
  {
   "cell_type": "code",
   "execution_count": null,
   "id": "5a1701e3",
   "metadata": {},
   "outputs": [],
   "source": [
    "metric = 'roc_auc'\n",
    "label = 'cardio'\n",
    "predictor = TabularPredictor(label, eval_metric=metric, path=\"gluon\").fit(train_data,presets='best_quality')"
   ]
  },
  {
   "cell_type": "code",
   "execution_count": null,
   "id": "f1bab37a",
   "metadata": {},
   "outputs": [],
   "source": [
    "preds  = predictor.predict(X_test)"
   ]
  },
  {
   "cell_type": "code",
   "execution_count": null,
   "id": "4271efea",
   "metadata": {},
   "outputs": [],
   "source": [
    "preds.to_csv(\"Solution.csv\",index=False)"
   ]
  }
 ],
 "metadata": {
  "kernelspec": {
   "display_name": "Python 3 (ipykernel)",
   "language": "python",
   "name": "python3"
  },
  "language_info": {
   "codemirror_mode": {
    "name": "ipython",
    "version": 3
   },
   "file_extension": ".py",
   "mimetype": "text/x-python",
   "name": "python",
   "nbconvert_exporter": "python",
   "pygments_lexer": "ipython3",
   "version": "3.9.13"
  }
 },
 "nbformat": 4,
 "nbformat_minor": 5
}
